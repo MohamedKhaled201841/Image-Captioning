{
 "cells": [
  {
   "cell_type": "markdown",
   "metadata": {},
   "source": [
    "# Image Captioning Final Project\n",
    "\n",
    "In this final project you will define and train an image-to-caption model, that can produce descriptions for real world images!\n",
    "\n",
    "<img src=\"images/encoder_decoder.png\" style=\"width:70%\">\n",
    "\n",
    "Model architecture: CNN encoder and RNN decoder. \n",
    "(https://research.googleblog.com/2014/11/a-picture-is-worth-thousand-coherent.html)"
   ]
  },
  {
   "cell_type": "markdown",
   "metadata": {
    "ExecuteTime": {
     "end_time": "2017-08-27T10:16:46.508273Z",
     "start_time": "2017-08-27T10:16:46.506062Z"
    }
   },
   "source": [
    "# Import stuff"
   ]
  },
  {
   "cell_type": "code",
   "execution_count": 1,
   "metadata": {
    "ExecuteTime": {
     "end_time": "2017-09-17T12:30:35.584796Z",
     "start_time": "2017-09-17T12:30:35.581343Z"
    },
    "collapsed": true
   },
   "outputs": [],
   "source": [
    "import sys\n",
    "sys.path.append(\"..\")\n",
    "import grading\n",
    "import download_utils"
   ]
  },
  {
   "cell_type": "code",
   "execution_count": 2,
   "metadata": {
    "collapsed": true
   },
   "outputs": [],
   "source": [
    "download_utils.link_all_keras_resources()"
   ]
  },
  {
   "cell_type": "code",
   "execution_count": 3,
   "metadata": {
    "ExecuteTime": {
     "end_time": "2017-09-17T14:32:05.229736Z",
     "start_time": "2017-09-17T14:31:56.495874Z"
    }
   },
   "outputs": [
    {
     "name": "stderr",
     "output_type": "stream",
     "text": [
      "Using TensorFlow backend.\n"
     ]
    }
   ],
   "source": [
    "import tensorflow as tf\n",
    "from tensorflow.contrib import keras\n",
    "import numpy as np\n",
    "%matplotlib inline\n",
    "import matplotlib.pyplot as plt\n",
    "L = keras.layers\n",
    "K = keras.backend\n",
    "import utils\n",
    "import time\n",
    "import zipfile\n",
    "import json\n",
    "from collections import defaultdict\n",
    "import re\n",
    "import random\n",
    "from random import choice\n",
    "import grading_utils\n",
    "import os\n",
    "from keras_utils import reset_tf_session\n",
    "import tqdm_utils"
   ]
  },
  {
   "cell_type": "markdown",
   "metadata": {},
   "source": [
    "# Download data\n",
    "\n",
    "Takes 10 hours and 20 GB. We've downloaded necessary files for you.\n",
    "\n",
    "Relevant links (just in case):\n",
    "- train images http://msvocds.blob.core.windows.net/coco2014/train2014.zip\n",
    "- validation images http://msvocds.blob.core.windows.net/coco2014/val2014.zip\n",
    "- captions for both train and validation http://msvocds.blob.core.windows.net/annotations-1-0-3/captions_train-val2014.zip"
   ]
  },
  {
   "cell_type": "markdown",
   "metadata": {
    "ExecuteTime": {
     "end_time": "2017-08-27T10:23:45.863881Z",
     "start_time": "2017-08-27T10:23:45.861693Z"
    }
   },
   "source": [
    "# Extract image features\n",
    "\n",
    "We will use pre-trained InceptionV3 model for CNN encoder (https://research.googleblog.com/2016/03/train-your-own-image-classifier-with.html) and extract its last hidden layer as an embedding:\n",
    "\n",
    "<img src=\"images/inceptionv3.png\" style=\"width:70%\">"
   ]
  },
  {
   "cell_type": "code",
   "execution_count": 4,
   "metadata": {
    "ExecuteTime": {
     "end_time": "2017-09-17T14:32:09.629321Z",
     "start_time": "2017-09-17T14:32:09.627108Z"
    },
    "collapsed": true
   },
   "outputs": [],
   "source": [
    "IMG_SIZE = 299"
   ]
  },
  {
   "cell_type": "code",
   "execution_count": 5,
   "metadata": {
    "ExecuteTime": {
     "end_time": "2017-09-17T14:32:09.836606Z",
     "start_time": "2017-09-17T14:32:09.831028Z"
    },
    "collapsed": true
   },
   "outputs": [],
   "source": [
    "# we take the last hidden layer of IncetionV3 as an image embedding\n",
    "def get_cnn_encoder():\n",
    "    K.set_learning_phase(False)\n",
    "    model = keras.applications.InceptionV3(include_top=False)\n",
    "    preprocess_for_model = keras.applications.inception_v3.preprocess_input\n",
    "\n",
    "    model = keras.models.Model(model.inputs, keras.layers.GlobalAveragePooling2D()(model.output))\n",
    "    return model, preprocess_for_model"
   ]
  },
  {
   "cell_type": "markdown",
   "metadata": {},
   "source": [
    "Features extraction takes too much time on CPU:\n",
    "- Takes 16 minutes on GPU.\n",
    "- 25x slower (InceptionV3) on CPU and takes 7 hours.\n",
    "- 10x slower (MobileNet) on CPU and takes 3 hours.\n",
    "\n",
    "So we've done it for you with the following code:\n",
    "```python\n",
    "# load pre-trained model\n",
    "reset_tf_session()\n",
    "encoder, preprocess_for_model = get_cnn_encoder()\n",
    "\n",
    "# extract train features\n",
    "train_img_embeds, train_img_fns = utils.apply_model(\n",
    "    \"train2014.zip\", encoder, preprocess_for_model, input_shape=(IMG_SIZE, IMG_SIZE))\n",
    "utils.save_pickle(train_img_embeds, \"train_img_embeds.pickle\")\n",
    "utils.save_pickle(train_img_fns, \"train_img_fns.pickle\")\n",
    "\n",
    "# extract validation features\n",
    "val_img_embeds, val_img_fns = utils.apply_model(\n",
    "    \"val2014.zip\", encoder, preprocess_for_model, input_shape=(IMG_SIZE, IMG_SIZE))\n",
    "utils.save_pickle(val_img_embeds, \"val_img_embeds.pickle\")\n",
    "utils.save_pickle(val_img_fns, \"val_img_fns.pickle\")\n",
    "\n",
    "# sample images for learners\n",
    "def sample_zip(fn_in, fn_out, rate=0.01, seed=42):\n",
    "    np.random.seed(seed)\n",
    "    with zipfile.ZipFile(fn_in) as fin, zipfile.ZipFile(fn_out, \"w\") as fout:\n",
    "        sampled = filter(lambda _: np.random.rand() < rate, fin.filelist)\n",
    "        for zInfo in sampled:\n",
    "            fout.writestr(zInfo, fin.read(zInfo))\n",
    "            \n",
    "sample_zip(\"train2014.zip\", \"train2014_sample.zip\")\n",
    "sample_zip(\"val2014.zip\", \"val2014_sample.zip\")\n",
    "```"
   ]
  },
  {
   "cell_type": "code",
   "execution_count": 6,
   "metadata": {
    "ExecuteTime": {
     "end_time": "2017-09-17T14:32:12.621413Z",
     "start_time": "2017-09-17T14:32:11.986281Z"
    }
   },
   "outputs": [
    {
     "name": "stdout",
     "output_type": "stream",
     "text": [
      "(82783, 2048) 82783\n",
      "(40504, 2048) 40504\n"
     ]
    }
   ],
   "source": [
    "# load prepared embeddings\n",
    "train_img_embeds = utils.read_pickle(\"train_img_embeds.pickle\")\n",
    "train_img_fns = utils.read_pickle(\"train_img_fns.pickle\")\n",
    "val_img_embeds = utils.read_pickle(\"val_img_embeds.pickle\")\n",
    "val_img_fns = utils.read_pickle(\"val_img_fns.pickle\")\n",
    "# check shapes\n",
    "print(train_img_embeds.shape, len(train_img_fns))\n",
    "print(val_img_embeds.shape, len(val_img_fns))"
   ]
  },
  {
   "cell_type": "code",
   "execution_count": 7,
   "metadata": {
    "ExecuteTime": {
     "end_time": "2017-09-17T14:32:21.515330Z",
     "start_time": "2017-09-17T14:32:21.400879Z"
    }
   },
   "outputs": [
    {
     "data": {
      "text/plain": [
       "['val2014_sample.zip', 'train2014_sample.zip']"
      ]
     },
     "execution_count": 7,
     "metadata": {},
     "output_type": "execute_result"
    }
   ],
   "source": [
    "# check prepared samples of images\n",
    "list(filter(lambda x: x.endswith(\"_sample.zip\"), os.listdir(\".\")))"
   ]
  },
  {
   "cell_type": "markdown",
   "metadata": {},
   "source": [
    "# Extract captions for images"
   ]
  },
  {
   "cell_type": "code",
   "execution_count": 8,
   "metadata": {
    "ExecuteTime": {
     "end_time": "2017-09-17T14:32:24.897276Z",
     "start_time": "2017-09-17T14:32:22.942805Z"
    }
   },
   "outputs": [
    {
     "name": "stdout",
     "output_type": "stream",
     "text": [
      "82783 82783\n",
      "40504 40504\n"
     ]
    }
   ],
   "source": [
    "# extract captions from zip\n",
    "def get_captions_for_fns(fns, zip_fn, zip_json_path):\n",
    "    zf = zipfile.ZipFile(zip_fn)\n",
    "    j = json.loads(zf.read(zip_json_path).decode(\"utf8\"))\n",
    "    id_to_fn = {img[\"id\"]: img[\"file_name\"] for img in j[\"images\"]}\n",
    "    fn_to_caps = defaultdict(list)\n",
    "    for cap in j['annotations']:\n",
    "        fn_to_caps[id_to_fn[cap['image_id']]].append(cap['caption'])\n",
    "    fn_to_caps = dict(fn_to_caps)\n",
    "    return list(map(lambda x: fn_to_caps[x], fns))\n",
    "    \n",
    "train_captions = get_captions_for_fns(train_img_fns, \"captions_train-val2014.zip\", \n",
    "                                      \"annotations/captions_train2014.json\")\n",
    "\n",
    "val_captions = get_captions_for_fns(val_img_fns, \"captions_train-val2014.zip\", \n",
    "                                      \"annotations/captions_val2014.json\")\n",
    "\n",
    "# check shape\n",
    "print(len(train_img_fns), len(train_captions))\n",
    "print(len(val_img_fns), len(val_captions))"
   ]
  },
  {
   "cell_type": "code",
   "execution_count": 9,
   "metadata": {
    "ExecuteTime": {
     "end_time": "2017-09-17T14:42:06.492565Z",
     "start_time": "2017-09-17T14:42:06.245458Z"
    }
   },
   "outputs": [
    {
     "data": {
      "image/png": "[encoded data removed]",
      "text/plain": [
       "<matplotlib.figure.Figure at 0x7fbf702b46d8>"
      ]
     },
     "metadata": {},
     "output_type": "display_data"
    }
   ],
   "source": [
    "# look at training example (each has 5 captions)\n",
    "def show_trainig_example(train_img_fns, train_captions, example_idx=0):\n",
    "    \"\"\"\n",
    "    You can change example_idx and see different images\n",
    "    \"\"\"\n",
    "    zf = zipfile.ZipFile(\"train2014_sample.zip\")\n",
    "    captions_by_file = dict(zip(train_img_fns, train_captions))\n",
    "    all_files = set(train_img_fns)\n",
    "    found_files = list(filter(lambda x: x.filename.rsplit(\"/\")[-1] in all_files, zf.filelist))\n",
    "    example = found_files[example_idx]\n",
    "    img = utils.decode_image_from_buf(zf.read(example))\n",
    "    plt.imshow(utils.image_center_crop(img))\n",
    "    plt.title(\"\\n\".join(captions_by_file[example.filename.rsplit(\"/\")[-1]]))\n",
    "    plt.show()\n",
    "    \n",
    "show_trainig_example(train_img_fns, train_captions, example_idx=140)"
   ]
  },
  {
   "cell_type": "markdown",
   "metadata": {},
   "source": [
    "# Prepare captions for training"
   ]
  },
  {
   "cell_type": "code",
   "execution_count": 10,
   "metadata": {
    "ExecuteTime": {
     "end_time": "2017-09-17T14:43:40.637447Z",
     "start_time": "2017-09-17T14:43:40.633717Z"
    }
   },
   "outputs": [
    {
     "data": {
      "text/plain": [
       "[['A long dirt road going through a forest.',\n",
       "  'A SCENE OF WATER AND A PATH WAY',\n",
       "  'A sandy path surrounded by trees leads to a beach.',\n",
       "  'Ocean view through a dirt road surrounded by a forested area. ',\n",
       "  'dirt path leading beneath barren trees to open plains'],\n",
       " ['A group of zebra standing next to each other.',\n",
       "  'This is an image of of zebras drinking',\n",
       "  'ZEBRAS AND BIRDS SHARING THE SAME WATERING HOLE',\n",
       "  'Zebras that are bent over and drinking water together.',\n",
       "  'a number of zebras drinking water near one another']]"
      ]
     },
     "execution_count": 10,
     "metadata": {},
     "output_type": "execute_result"
    }
   ],
   "source": [
    "# preview captions data\n",
    "train_captions[:2]"
   ]
  },
  {
   "cell_type": "code",
   "execution_count": 11,
   "metadata": {
    "ExecuteTime": {
     "end_time": "2017-09-17T14:43:40.932131Z",
     "start_time": "2017-09-17T14:43:40.891187Z"
    },
    "collapsed": true
   },
   "outputs": [],
   "source": [
    "# special tokens\n",
    "PAD = \"#PAD#\"\n",
    "UNK = \"#UNK#\"\n",
    "START = \"#START#\"\n",
    "END = \"#END#\"\n",
    "\n",
    "# split sentence into tokens (split into lowercased words)\n",
    "def split_sentence(sentence):\n",
    "    return list(filter(lambda x: len(x) > 0, re.split('\\W+', sentence.lower())))\n",
    "\n",
    "def generate_vocabulary(train_captions):\n",
    "    \"\"\"\n",
    "    Return {token: index} for all train tokens (words) that occur 5 times or more, \n",
    "        `index` should be from 0 to N, where N is a number of unique tokens in the resulting dictionary.\n",
    "    Use `split_sentence` function to split sentence into tokens.\n",
    "    Also, add PAD (for batch padding), UNK (unknown, out of vocabulary), \n",
    "        START (start of sentence) and END (end of sentence) tokens into the vocabulary.\n",
    "    \"\"\"\n",
    "    \n",
    "    from collections import Counter\n",
    "    table = Counter()\n",
    "    for tc in train_captions:\n",
    "        for sentence in tc:\n",
    "            for token in split_sentence(sentence):\n",
    "                table[token] += 1\n",
    "    vocab = [token for token, c in table.items() if c >= 5]\n",
    "    vocab += [PAD, UNK, START, END]\n",
    "    return {token: index for index, token in enumerate(sorted(vocab))}\n",
    "    \n",
    "def caption_tokens_to_indices(captions, vocab):\n",
    "    \"\"\"\n",
    "    `captions` argument is an array of arrays:\n",
    "    [\n",
    "        [\n",
    "            \"image1 caption1\",\n",
    "            \"image1 caption2\",\n",
    "            ...\n",
    "        ],\n",
    "        [\n",
    "            \"image2 caption1\",\n",
    "            \"image2 caption2\",\n",
    "            ...\n",
    "        ],\n",
    "        ...\n",
    "    ]\n",
    "    Use `split_sentence` function to split sentence into tokens.\n",
    "    Replace all tokens with vocabulary indices, use UNK for unknown words (out of vocabulary).\n",
    "    Add START and END tokens to start and end of each sentence respectively.\n",
    "    For the example above you should produce the following:\n",
    "    [\n",
    "        [\n",
    "            [vocab[START], vocab[\"image1\"], vocab[\"caption1\"], vocab[END]],\n",
    "            [vocab[START], vocab[\"image1\"], vocab[\"caption2\"], vocab[END]],\n",
    "            ...\n",
    "        ],\n",
    "        ...\n",
    "    ]\n",
    "    \"\"\"\n",
    "    res = []\n",
    "    for caption in captions:\n",
    "        currCap = []\n",
    "        for sentence in caption:\n",
    "            currSen = [vocab[START]]\n",
    "            for token in split_sentence(sentence):\n",
    "                currSen.append(vocab.get(token, vocab[UNK]))\n",
    "            currSen.append(vocab[END])\n",
    "            currCap.append(currSen)\n",
    "        res.append(currCap)\n",
    "    return res"
   ]
  },
  {
   "cell_type": "code",
   "execution_count": 12,
   "metadata": {
    "ExecuteTime": {
     "end_time": "2017-09-17T14:43:44.824532Z",
     "start_time": "2017-09-17T14:43:41.264769Z"
    }
   },
   "outputs": [
    {
     "name": "stdout",
     "output_type": "stream",
     "text": [
      "8769\n"
     ]
    }
   ],
   "source": [
    "# prepare vocabulary\n",
    "vocab = generate_vocabulary(train_captions)\n",
    "vocab_inverse = {idx: w for w, idx in vocab.items()}\n",
    "print(len(vocab))"
   ]
  },
  {
   "cell_type": "code",
   "execution_count": 13,
   "metadata": {
    "ExecuteTime": {
     "end_time": "2017-09-17T14:43:53.206639Z",
     "start_time": "2017-09-17T14:43:44.826028Z"
    },
    "collapsed": true
   },
   "outputs": [],
   "source": [
    "# replace tokens with indices\n",
    "train_captions_indexed = caption_tokens_to_indices(train_captions, vocab)\n",
    "val_captions_indexed = caption_tokens_to_indices(val_captions, vocab)"
   ]
  },
  {
   "cell_type": "markdown",
   "metadata": {},
   "source": [
    "Captions have different length, but we need to batch them, that's why we will add PAD tokens so that all sentences have an equal length. \n",
    "\n",
    "We will crunch LSTM through all the tokens, but we will ignore padding tokens during loss calculation."
   ]
  },
  {
   "cell_type": "code",
   "execution_count": 14,
   "metadata": {
    "ExecuteTime": {
     "end_time": "2017-09-17T16:11:52.425546Z",
     "start_time": "2017-09-17T16:11:52.414004Z"
    },
    "collapsed": true
   },
   "outputs": [],
   "source": [
    "# we will use this during training\n",
    "def batch_captions_to_matrix(batch_captions, pad_idx, max_len=None):\n",
    "    \"\"\"\n",
    "    `batch_captions` is an array of arrays:\n",
    "    [\n",
    "        [vocab[START], ..., vocab[END]],\n",
    "        [vocab[START], ..., vocab[END]],\n",
    "        ...\n",
    "    ]\n",
    "    Put vocabulary indexed captions into np.array of shape (len(batch_captions), columns),\n",
    "        where \"columns\" is max(map(len, batch_captions)) when max_len is None\n",
    "        and \"columns\" = min(max_len, max(map(len, batch_captions))) otherwise.\n",
    "    Add padding with pad_idx where necessary.\n",
    "    Input example: [[1, 2, 3], [4, 5]]\n",
    "    Output example: np.array([[1, 2, 3], [4, 5, pad_idx]]) if max_len=None\n",
    "    Output example: np.array([[1, 2], [4, 5]]) if max_len=2\n",
    "    Output example: np.array([[1, 2, 3], [4, 5, pad_idx]]) if max_len=100\n",
    "    Try to use numpy, we need this function to be fast!\n",
    "    \"\"\"\n",
    "    columns = min(max_len, max(map(len, batch_captions))) if max_len else max(map(len, batch_captions))\n",
    "    matrix = np.zeros((len(batch_captions), columns), np.int32) + pad_idx\n",
    "    for i in range(len(batch_captions)):\n",
    "        l = min(columns, len(batch_captions[i]))\n",
    "        matrix[i, :l] = batch_captions[i][:l]\n",
    "    return matrix"
   ]
  },
  {
   "cell_type": "code",
   "execution_count": 15,
   "metadata": {
    "collapsed": true
   },
   "outputs": [],
   "source": [
    "# make sure you use correct argument in caption_tokens_to_indices\n",
    "assert len(caption_tokens_to_indices(train_captions[:10], vocab)) == 10\n",
    "assert len(caption_tokens_to_indices(train_captions[:5], vocab)) == 5"
   ]
  },
  {
   "cell_type": "markdown",
   "metadata": {
    "ExecuteTime": {
     "end_time": "2017-08-27T13:34:09.664927Z",
     "start_time": "2017-08-27T13:34:09.662597Z"
    }
   },
   "source": [
    "# Training"
   ]
  },
  {
   "cell_type": "markdown",
   "metadata": {},
   "source": [
    "## Define architecture"
   ]
  },
  {
   "cell_type": "markdown",
   "metadata": {},
   "source": [
    "Since our problem is to generate image captions, RNN text generator should be conditioned on image. The idea is to use image features as an initial state for RNN instead of zeros. \n",
    "\n",
    "Remember that you should transform image feature vector to RNN hidden state size by fully-connected layer and then pass it to RNN.\n",
    "\n",
    "During training we will feed ground truth tokens into the lstm to get predictions of next tokens. \n",
    "\n",
    "Notice that we don't need to feed last token (END) as input (http://cs.stanford.edu/people/karpathy/):\n",
    "\n",
    "<img src=\"images/encoder_decoder_explained.png\" style=\"width:50%\">"
   ]
  },
  {
   "cell_type": "code",
   "execution_count": 16,
   "metadata": {
    "ExecuteTime": {
     "end_time": "2017-09-17T16:33:04.453351Z",
     "start_time": "2017-09-17T16:33:04.449675Z"
    },
    "collapsed": true
   },
   "outputs": [],
   "source": [
    "IMG_EMBED_SIZE = train_img_embeds.shape[1]\n",
    "IMG_EMBED_BOTTLENECK = 120\n",
    "WORD_EMBED_SIZE = 100\n",
    "LSTM_UNITS = 300\n",
    "LOGIT_BOTTLENECK = 120\n",
    "pad_idx = vocab[PAD]"
   ]
  },
  {
   "cell_type": "code",
   "execution_count": 17,
   "metadata": {
    "ExecuteTime": {
     "end_time": "2017-09-17T16:38:46.296544Z",
     "start_time": "2017-09-17T16:38:46.290670Z"
    },
    "collapsed": true
   },
   "outputs": [],
   "source": [
    "# # # remember to reset your graph if you want to start building it from scratch!\n",
    "s = reset_tf_session()\n",
    "\n",
    "tf.set_random_seed(42)"
   ]
  },
  {
   "cell_type": "markdown",
   "metadata": {},
   "source": [
    "Here we define decoder graph.\n",
    "\n",
    "We use Keras layers where possible because we can use them in functional style with weights reuse like this:\n",
    "```python\n",
    "dense_layer = L.Dense(42, input_shape=(None, 100) activation='relu')\n",
    "a = tf.placeholder('float32', [None, 100])\n",
    "b = tf.placeholder('float32', [None, 100])\n",
    "dense_layer(a)  # that's how we applied dense layer!\n",
    "dense_layer(b)  # and again\n",
    "```"
   ]
  },
  {
   "cell_type": "markdown",
   "metadata": {},
   "source": [
    "Here's a figure to help you with flattening in decoder:\n",
    "<img src=\"images/flatten_help.jpg\" style=\"width:80%\">"
   ]
  },
  {
   "cell_type": "code",
   "execution_count": 18,
   "metadata": {
    "ExecuteTime": {
     "end_time": "2017-09-17T16:38:48.300312Z",
     "start_time": "2017-09-17T16:38:48.128590Z"
    },
    "collapsed": true
   },
   "outputs": [],
   "source": [
    "class decoder:\n",
    "    # [batch_size, IMG_EMBED_SIZE] of CNN image features\n",
    "    img_embeds = tf.placeholder('float32', [None, IMG_EMBED_SIZE])\n",
    "    # [batch_size, time steps] of word ids\n",
    "    sentences = tf.placeholder('int32', [None, None])\n",
    "    \n",
    "    # we use bottleneck here to reduce the number of parameters\n",
    "    # image embedding -> bottleneck\n",
    "    img_embed_to_bottleneck = L.Dense(IMG_EMBED_BOTTLENECK, \n",
    "                                      input_shape=(None, IMG_EMBED_SIZE), \n",
    "                                      activation='elu')\n",
    "    # image embedding bottleneck -> lstm initial state\n",
    "    img_embed_bottleneck_to_h0 = L.Dense(LSTM_UNITS,\n",
    "                                         input_shape=(None, IMG_EMBED_BOTTLENECK),\n",
    "                                         activation='elu')\n",
    "    # word -> embedding\n",
    "    word_embed = L.Embedding(len(vocab), WORD_EMBED_SIZE)\n",
    "    # lstm cell (from tensorflow)\n",
    "    lstm = tf.nn.rnn_cell.LSTMCell(LSTM_UNITS)\n",
    "    \n",
    "    # we use bottleneck here to reduce model complexity\n",
    "    # lstm output -> logits bottleneck\n",
    "    token_logits_bottleneck = L.Dense(LOGIT_BOTTLENECK, \n",
    "                                      input_shape=(None, LSTM_UNITS),\n",
    "                                      activation=\"elu\")\n",
    "    # logits bottleneck -> logits for next token prediction\n",
    "    token_logits = L.Dense(len(vocab),\n",
    "                           input_shape=(None, LOGIT_BOTTLENECK))\n",
    "    \n",
    "    # initial lstm cell state of shape (None, LSTM_UNITS),\n",
    "    # we need to condition it on `img_embeds` placeholder.\n",
    "    c0 = h0 = img_embed_bottleneck_to_h0(img_embed_to_bottleneck(img_embeds)) ### YOUR CODE HERE ###\n",
    "\n",
    "    # embed all tokens but the last for lstm input,\n",
    "    # remember that L.Embedding is callable,\n",
    "    # use `sentences` placeholder as input.\n",
    "    word_embeds = word_embed(sentences[:, :-1]) ### YOUR CODE HERE ###\n",
    "    \n",
    "    # during training we use ground truth tokens `word_embeds` as context for next token prediction.\n",
    "    # that means that we know all the inputs for our lstm and can get \n",
    "    # all the hidden states with one tensorflow operation (tf.nn.dynamic_rnn).\n",
    "    # `hidden_states` has a shape of [batch_size, time steps, LSTM_UNITS].\n",
    "    hidden_states, _ = tf.nn.dynamic_rnn(lstm, word_embeds,\n",
    "                                         initial_state=tf.nn.rnn_cell.LSTMStateTuple(c0, h0))\n",
    "\n",
    "    # now we need to calculate token logits for all the hidden states\n",
    "    \n",
    "    # first, we reshape `hidden_states` to [-1, LSTM_UNITS]\n",
    "    flat_hidden_states = tf.reshape(hidden_states, [-1, LSTM_UNITS]) ### YOUR CODE HERE ###\n",
    "\n",
    "    # then, we calculate logits for next tokens using `token_logits_bottleneck` and `token_logits` layers\n",
    "    flat_token_logits = token_logits(token_logits_bottleneck(flat_hidden_states)) ### YOUR CODE HERE ###\n",
    "    \n",
    "    # then, we flatten the ground truth token ids.\n",
    "    # remember, that we predict next tokens for each time step,\n",
    "    # use `sentences` placeholder.\n",
    "    flat_ground_truth = tf.reshape(sentences[:, 1:], [-1])### YOUR CODE HERE ###\n",
    "\n",
    "    # we need to know where we have real tokens (not padding) in `flat_ground_truth`,\n",
    "    # we don't want to propagate the loss for padded output tokens,\n",
    "    # fill `flat_loss_mask` with 1.0 for real tokens (not pad_idx) and 0.0 otherwise.\n",
    "    flat_loss_mask = tf.not_equal(flat_ground_truth, pad_idx) ### YOUR CODE HERE ###\n",
    "\n",
    "    # compute cross-entropy between `flat_ground_truth` and `flat_token_logits` predicted by lstm\n",
    "    xent = tf.nn.sparse_softmax_cross_entropy_with_logits(\n",
    "        labels=flat_ground_truth, \n",
    "        logits=flat_token_logits\n",
    "    )\n",
    "\n",
    "    # compute average `xent` over tokens with nonzero `flat_loss_mask`.\n",
    "    # we don't want to account misclassification of PAD tokens, because that doesn't make sense,\n",
    "    # we have PAD tokens for batching purposes only!\n",
    "    loss = tf.reduce_mean(tf.boolean_mask(xent, flat_loss_mask)) ### YOUR CODE HERE ###"
   ]
  },
  {
   "cell_type": "code",
   "execution_count": 23,
   "metadata": {},
   "outputs": [
    {
     "name": "stderr",
     "output_type": "stream",
     "text": [
      "/opt/conda/lib/python3.6/site-packages/tensorflow/python/ops/gradients_impl.py:93: UserWarning: Converting sparse IndexedSlices to a dense Tensor of unknown shape. This may consume a large amount of memory.\n",
      "  \"Converting sparse IndexedSlices to a dense Tensor of unknown shape. \"\n"
     ]
    }
   ],
   "source": [
    "# define optimizer operation to minimize the loss\n",
    "optimizer = tf.train.AdamOptimizer(learning_rate=0.01)\n",
    "train_step = optimizer.minimize(decoder.loss)\n",
    "\n",
    "# will be used to save/load network weights.\n",
    "# you need to reset your default graph and define it in the same way to be able to load the saved weights!\n",
    "saver = tf.train.Saver()\n",
    "\n",
    "# intialize all variables\n",
    "s.run(tf.global_variables_initializer())"
   ]
  },
  {
   "cell_type": "markdown",
   "metadata": {},
   "source": [
    "## Training loop\n",
    "Evaluate train and validation metrics through training and log them. Ensure that loss decreases."
   ]
  },
  {
   "cell_type": "code",
   "execution_count": 20,
   "metadata": {
    "ExecuteTime": {
     "end_time": "2017-09-17T14:43:59.397913Z",
     "start_time": "2017-09-17T14:43:58.913391Z"
    },
    "collapsed": true
   },
   "outputs": [],
   "source": [
    "train_captions_indexed = np.array(train_captions_indexed)\n",
    "val_captions_indexed = np.array(val_captions_indexed)"
   ]
  },
  {
   "cell_type": "code",
   "execution_count": 21,
   "metadata": {
    "ExecuteTime": {
     "end_time": "2017-09-17T14:43:59.529548Z",
     "start_time": "2017-09-17T14:43:59.399567Z"
    },
    "collapsed": true
   },
   "outputs": [],
   "source": [
    "# generate batch via random sampling of images and captions for them,\n",
    "# we use `max_len` parameter to control the length of the captions (truncating long captions)\n",
    "def generate_batch(images_embeddings, indexed_captions, batch_size, max_len=None):\n",
    "    \"\"\"\n",
    "    `images_embeddings` is a np.array of shape [number of images, IMG_EMBED_SIZE].\n",
    "    `indexed_captions` holds 5 vocabulary indexed captions for each image:\n",
    "    [\n",
    "        [\n",
    "            [vocab[START], vocab[\"image1\"], vocab[\"caption1\"], vocab[END]],\n",
    "            [vocab[START], vocab[\"image1\"], vocab[\"caption2\"], vocab[END]],\n",
    "            ...\n",
    "        ],\n",
    "        ...\n",
    "    ]\n",
    "    Generate a random batch of size `batch_size`.\n",
    "    Take random images and choose one random caption for each image.\n",
    "    Remember to use `batch_captions_to_matrix` for padding and respect `max_len` parameter.\n",
    "    Return feed dict {decoder.img_embeds: ..., decoder.sentences: ...}.\n",
    "    \"\"\"\n",
    "    idxs = np.random.choice(len(images_embeddings), batch_size, replace=False)\n",
    "    batch_image_embeddings = images_embeddings[idxs] ### YOUR CODE HERE ###\n",
    "    \n",
    "    ### YOUR CODE HERE ###\n",
    "    batch_captions = [caption[np.random.randint(5)] for caption in indexed_captions[idxs]]\n",
    "    batch_captions_matrix = batch_captions_to_matrix(batch_captions, pad_idx, max_len)\n",
    "    \n",
    "    return {decoder.img_embeds: batch_image_embeddings, \n",
    "            decoder.sentences: batch_captions_matrix}"
   ]
  },
  {
   "cell_type": "code",
   "execution_count": 24,
   "metadata": {
    "ExecuteTime": {
     "end_time": "2017-09-17T14:44:00.437338Z",
     "start_time": "2017-09-17T14:44:00.434472Z"
    },
    "collapsed": true
   },
   "outputs": [],
   "source": [
    "batch_size = 32\n",
    "n_epochs = 16\n",
    "n_batches_per_epoch = 256\n",
    "n_validation_batches = 32 # how many batches are used for validation after each epoch"
   ]
  },
  {
   "cell_type": "code",
   "execution_count": null,
   "metadata": {
    "collapsed": true
   },
   "outputs": [],
   "source": [
    "# saver.restore(s, os.path.abspath(\"weights\"))"
   ]
  },
  {
   "cell_type": "markdown",
   "metadata": {},
   "source": [
    "Look at the training and validation loss, they should be decreasing!"
   ]
  },
  {
   "cell_type": "code",
   "execution_count": 25,
   "metadata": {
    "ExecuteTime": {
     "end_time": "2017-09-17T12:42:16.120494Z",
     "start_time": "2017-09-17T12:31:03.779162Z"
    },
    "scrolled": true
   },
   "outputs": [
    {
     "data": {
      "application/vnd.jupyter.widget-view+json": {
       "model_id": "e424201edaf5474aa89924601c792a51",
       "version_major": 2,
       "version_minor": 0
      },
      "text/plain": [
       "A Jupyter Widget"
      ]
     },
     "metadata": {},
     "output_type": "display_data"
    },
    {
     "name": "stdout",
     "output_type": "stream",
     "text": [
      "\n",
      "Epoch: 0, train loss: 4.758126761764288, val loss: 4.201068431138992\n"
     ]
    },
    {
     "data": {
      "application/vnd.jupyter.widget-view+json": {
       "model_id": "9dde8134fb434f30bad5f4e19115cda5",
       "version_major": 2,
       "version_minor": 0
      },
      "text/plain": [
       "A Jupyter Widget"
      ]
     },
     "metadata": {},
     "output_type": "display_data"
    },
    {
     "name": "stdout",
     "output_type": "stream",
     "text": [
      "\n",
      "Epoch: 1, train loss: 4.0269721411168575, val loss: 3.928715206682682\n"
     ]
    },
    {
     "data": {
      "application/vnd.jupyter.widget-view+json": {
       "model_id": "3a02d96853c74fcc8aec1d348d5a35bc",
       "version_major": 2,
       "version_minor": 0
      },
      "text/plain": [
       "A Jupyter Widget"
      ]
     },
     "metadata": {},
     "output_type": "display_data"
    },
    {
     "name": "stdout",
     "output_type": "stream",
     "text": [
      "\n",
      "Epoch: 2, train loss: 3.855576020665467, val loss: 3.7205245047807693\n"
     ]
    },
    {
     "data": {
      "application/vnd.jupyter.widget-view+json": {
       "model_id": "65bc85548a1940a5a8f9dca8ec836cf9",
       "version_major": 2,
       "version_minor": 0
      },
      "text/plain": [
       "A Jupyter Widget"
      ]
     },
     "metadata": {},
     "output_type": "display_data"
    },
    {
     "name": "stdout",
     "output_type": "stream",
     "text": [
      "\n",
      "Epoch: 3, train loss: 3.684533393010497, val loss: 3.71565380692482\n"
     ]
    },
    {
     "data": {
      "application/vnd.jupyter.widget-view+json": {
       "model_id": "a943daa14e244c02aa74d3ca483d9a8c",
       "version_major": 2,
       "version_minor": 0
      },
      "text/plain": [
       "A Jupyter Widget"
      ]
     },
     "metadata": {},
     "output_type": "display_data"
    },
    {
     "name": "stdout",
     "output_type": "stream",
     "text": [
      "\n",
      "Epoch: 4, train loss: 3.6308611249551177, val loss: 3.6301111727952957\n"
     ]
    },
    {
     "data": {
      "application/vnd.jupyter.widget-view+json": {
       "model_id": "ade2b41f77fe424f81aaffa69df2c43b",
       "version_major": 2,
       "version_minor": 0
      },
      "text/plain": [
       "A Jupyter Widget"
      ]
     },
     "metadata": {},
     "output_type": "display_data"
    },
    {
     "name": "stdout",
     "output_type": "stream",
     "text": [
      "\n",
      "Epoch: 5, train loss: 3.540412962436676, val loss: 3.5592566803097725\n"
     ]
    },
    {
     "data": {
      "application/vnd.jupyter.widget-view+json": {
       "model_id": "f058d8f9ef2047b4b046fb58731a8a57",
       "version_major": 2,
       "version_minor": 0
      },
      "text/plain": [
       "A Jupyter Widget"
      ]
     },
     "metadata": {},
     "output_type": "display_data"
    },
    {
     "name": "stdout",
     "output_type": "stream",
     "text": [
      "\n",
      "Epoch: 6, train loss: 3.49579484667629, val loss: 3.4803559109568596\n"
     ]
    },
    {
     "data": {
      "application/vnd.jupyter.widget-view+json": {
       "model_id": "e5db783df1724535ac37b634c06bbe4c",
       "version_major": 2,
       "version_minor": 0
      },
      "text/plain": [
       "A Jupyter Widget"
      ]
     },
     "metadata": {},
     "output_type": "display_data"
    },
    {
     "name": "stdout",
     "output_type": "stream",
     "text": [
      "\n",
      "Epoch: 7, train loss: 3.465030157007277, val loss: 3.443777456879616\n"
     ]
    },
    {
     "data": {
      "application/vnd.jupyter.widget-view+json": {
       "model_id": "03f3aa2aa71043bb99bd7946870c7511",
       "version_major": 2,
       "version_minor": 0
      },
      "text/plain": [
       "A Jupyter Widget"
      ]
     },
     "metadata": {},
     "output_type": "display_data"
    },
    {
     "name": "stdout",
     "output_type": "stream",
     "text": [
      "\n",
      "Epoch: 8, train loss: 3.4176081819459796, val loss: 3.4141870886087418\n"
     ]
    },
    {
     "data": {
      "application/vnd.jupyter.widget-view+json": {
       "model_id": "b11bd25c0a0b4bbe8688758f6f3b8120",
       "version_major": 2,
       "version_minor": 0
      },
      "text/plain": [
       "A Jupyter Widget"
      ]
     },
     "metadata": {},
     "output_type": "display_data"
    },
    {
     "name": "stdout",
     "output_type": "stream",
     "text": [
      "\n",
      "Epoch: 9, train loss: 3.406107047572732, val loss: 3.411911301314831\n"
     ]
    },
    {
     "data": {
      "application/vnd.jupyter.widget-view+json": {
       "model_id": "602c2a50b0d34dcbb4a249ef18e7566b",
       "version_major": 2,
       "version_minor": 0
      },
      "text/plain": [
       "A Jupyter Widget"
      ]
     },
     "metadata": {},
     "output_type": "display_data"
    },
    {
     "name": "stdout",
     "output_type": "stream",
     "text": [
      "\n",
      "Epoch: 10, train loss: 3.3786668004468083, val loss: 3.4489904567599297\n"
     ]
    },
    {
     "data": {
      "application/vnd.jupyter.widget-view+json": {
       "model_id": "2fffb33f283e44608c82ce8185a37a17",
       "version_major": 2,
       "version_minor": 0
      },
      "text/plain": [
       "A Jupyter Widget"
      ]
     },
     "metadata": {},
     "output_type": "display_data"
    },
    {
     "name": "stdout",
     "output_type": "stream",
     "text": [
      "\n",
      "Epoch: 11, train loss: 3.345662645995617, val loss: 3.3958951756358147\n"
     ]
    },
    {
     "data": {
      "application/vnd.jupyter.widget-view+json": {
       "model_id": "e76907f50d534f3a84f98492b64d520f",
       "version_major": 2,
       "version_minor": 0
      },
      "text/plain": [
       "A Jupyter Widget"
      ]
     },
     "metadata": {},
     "output_type": "display_data"
    },
    {
     "name": "stdout",
     "output_type": "stream",
     "text": [
      "\n",
      "Epoch: 12, train loss: 3.3349924255162477, val loss: 3.356168158352375\n"
     ]
    },
    {
     "data": {
      "application/vnd.jupyter.widget-view+json": {
       "model_id": "027efc6727b0497c88ad0dc8024d00b6",
       "version_major": 2,
       "version_minor": 0
      },
      "text/plain": [
       "A Jupyter Widget"
      ]
     },
     "metadata": {},
     "output_type": "display_data"
    },
    {
     "name": "stdout",
     "output_type": "stream",
     "text": [
      "\n",
      "Epoch: 13, train loss: 3.340975843369961, val loss: 3.309946373105049\n"
     ]
    },
    {
     "data": {
      "application/vnd.jupyter.widget-view+json": {
       "model_id": "8c772e40a06e477c86747b0e38f09ae8",
       "version_major": 2,
       "version_minor": 0
      },
      "text/plain": [
       "A Jupyter Widget"
      ]
     },
     "metadata": {},
     "output_type": "display_data"
    },
    {
     "name": "stdout",
     "output_type": "stream",
     "text": [
      "\n",
      "Epoch: 14, train loss: 3.3394790031015873, val loss: 3.3986769169569016\n"
     ]
    },
    {
     "data": {
      "application/vnd.jupyter.widget-view+json": {
       "model_id": "ca7f9db692aa427d90036c46a5e4fa27",
       "version_major": 2,
       "version_minor": 0
      },
      "text/plain": [
       "A Jupyter Widget"
      ]
     },
     "metadata": {},
     "output_type": "display_data"
    },
    {
     "name": "stdout",
     "output_type": "stream",
     "text": [
      "\n",
      "Epoch: 15, train loss: 3.309393173083663, val loss: 3.3245161697268486\n",
      "Finished!\n"
     ]
    }
   ],
   "source": [
    "# actual training loop\n",
    "MAX_LEN = 20  # truncate long captions to speed up training\n",
    "train_loss_list=[]\n",
    "val_loss_list=[]\n",
    "# to make training reproducible\n",
    "np.random.seed(42)\n",
    "random.seed(42)\n",
    "\n",
    "for epoch in range(n_epochs):\n",
    "    \n",
    "    train_loss = 0\n",
    "    pbar = tqdm_utils.tqdm_notebook_failsafe(range(n_batches_per_epoch))\n",
    "    counter = 0\n",
    "    for _ in pbar:\n",
    "        train_loss += s.run([decoder.loss, train_step], \n",
    "                            generate_batch(train_img_embeds, \n",
    "                                           train_captions_indexed, \n",
    "                                           batch_size, \n",
    "                                           MAX_LEN))[0]\n",
    "        counter += 1\n",
    "        pbar.set_description(\"Training loss: %f\" % (train_loss / counter))\n",
    "        \n",
    "    train_loss /= n_batches_per_epoch\n",
    "    \n",
    "    val_loss = 0\n",
    "    for _ in range(n_validation_batches):\n",
    "        val_loss += s.run(decoder.loss, generate_batch(val_img_embeds,\n",
    "                                                       val_captions_indexed, \n",
    "                                                       batch_size, \n",
    "                                                       MAX_LEN))\n",
    "    val_loss /= n_validation_batches\n",
    "    \n",
    "    print('Epoch: {}, train loss: {}, val loss: {}'.format(epoch, train_loss, val_loss))\n",
    "    train_loss_list.append(train_loss)\n",
    "    val_loss_list.append(val_loss)\n",
    "    # save weights after finishing epoch\n",
    "    saver.save(s, os.path.abspath(\"weights_{}\".format(epoch)))\n",
    "    \n",
    "print(\"Finished!\") "
   ]
  },
  {
   "cell_type": "code",
   "execution_count": 26,
   "metadata": {},
   "outputs": [
    {
     "data": {
      "text/plain": [
       "[4.7581267617642879,\n",
       " 4.0269721411168575,\n",
       " 3.8555760206654668,\n",
       " 3.6845333930104971,\n",
       " 3.6308611249551177,\n",
       " 3.540412962436676,\n",
       " 3.49579484667629,\n",
       " 3.465030157007277,\n",
       " 3.4176081819459796,\n",
       " 3.406107047572732,\n",
       " 3.3786668004468083,\n",
       " 3.3456626459956169,\n",
       " 3.3349924255162477,\n",
       " 3.3409758433699608,\n",
       " 3.3394790031015873,\n",
       " 3.309393173083663]"
      ]
     },
     "execution_count": 26,
     "metadata": {},
     "output_type": "execute_result"
    }
   ],
   "source": [
    "train_loss_list\n"
   ]
  },
  {
   "cell_type": "code",
   "execution_count": 27,
   "metadata": {},
   "outputs": [
    {
     "data": {
      "text/plain": [
       "[4.2010684311389923,\n",
       " 3.928715206682682,\n",
       " 3.7205245047807693,\n",
       " 3.7156538069248199,\n",
       " 3.6301111727952957,\n",
       " 3.5592566803097725,\n",
       " 3.4803559109568596,\n",
       " 3.4437774568796158,\n",
       " 3.4141870886087418,\n",
       " 3.4119113013148308,\n",
       " 3.4489904567599297,\n",
       " 3.3958951756358147,\n",
       " 3.356168158352375,\n",
       " 3.3099463731050491,\n",
       " 3.3986769169569016,\n",
       " 3.3245161697268486]"
      ]
     },
     "execution_count": 27,
     "metadata": {},
     "output_type": "execute_result"
    }
   ],
   "source": [
    "val_loss_list"
   ]
  },
  {
   "cell_type": "code",
   "execution_count": 30,
   "metadata": {},
   "outputs": [
    {
     "data": {
      "text/plain": [
       "<matplotlib.legend.Legend at 0x7fbd6c7ad9e8>"
      ]
     },
     "execution_count": 30,
     "metadata": {},
     "output_type": "execute_result"
    },
    {
     "data": {
      "image/png": "[encoded data removed]",
      "text/plain": [
       "<matplotlib.figure.Figure at 0x7fbda0675438>"
      ]
     },
     "metadata": {},
     "output_type": "display_data"
    }
   ],
   "source": [
    "import matplotlib.pyplot as plt\n",
    "x=[i for i in range(16)]\n",
    "plt.figure(figsize=(6,6))\n",
    "plt.plot(x,train_loss_list,label=\"train_loss\")\n",
    "plt.plot(x,val_loss_list,label=\"val_loss\")\n",
    "plt.xlabel(\"Epochs\")\n",
    "plt.ylabel(\"Loss\")\n",
    "plt.title(\"batch_size = 32      n_epochs = 16     n_batches_per_epoch = 256     n_validation_batches = 32   learning rate=0.01 \")\n",
    "\n",
    "plt.legend()"
   ]
  },
  {
   "cell_type": "code",
   "execution_count": null,
   "metadata": {
    "ExecuteTime": {
     "end_time": "2017-09-17T12:42:16.399349Z",
     "start_time": "2017-09-17T12:42:16.122158Z"
    }
   },
   "outputs": [],
   "source": [
    "# check that it's learnt something, outputs accuracy of next word prediction (should be around 0.5)\n",
    "from sklearn.metrics import accuracy_score, log_loss\n",
    "\n",
    "def decode_sentence(sentence_indices):\n",
    "    return \" \".join(list(map(vocab_inverse.get, sentence_indices)))\n",
    "\n",
    "def check_after_training(n_examples):\n",
    "    fd = generate_batch(train_img_embeds, train_captions_indexed, batch_size)\n",
    "    logits = decoder.flat_token_logits.eval(fd)\n",
    "    truth = decoder.flat_ground_truth.eval(fd)\n",
    "    mask = decoder.flat_loss_mask.eval(fd).astype(bool)\n",
    "    print(\"Loss:\", decoder.loss.eval(fd))\n",
    "    print(\"Accuracy:\", accuracy_score(logits.argmax(axis=1)[mask], truth[mask]))\n",
    "    for example_idx in range(n_examples):\n",
    "        print(\"Example\", example_idx)\n",
    "        print(\"Predicted:\", decode_sentence(logits.argmax(axis=1).reshape((batch_size, -1))[example_idx]))\n",
    "        print(\"Truth:\", decode_sentence(truth.reshape((batch_size, -1))[example_idx]))\n",
    "        print(\"\")\n",
    "\n",
    "check_after_training(3)"
   ]
  },
  {
   "cell_type": "code",
   "execution_count": 31,
   "metadata": {
    "ExecuteTime": {
     "end_time": "2017-09-17T12:42:16.535481Z",
     "start_time": "2017-09-17T12:42:16.400830Z"
    }
   },
   "outputs": [
    {
     "data": {
      "text/plain": [
       "'/home/jovyan/work/week6/weights'"
      ]
     },
     "execution_count": 31,
     "metadata": {},
     "output_type": "execute_result"
    }
   ],
   "source": [
    "# save graph weights to file!\n",
    "saver.save(s, os.path.abspath(\"weights\"))"
   ]
  },
  {
   "cell_type": "code",
   "execution_count": null,
   "metadata": {
    "collapsed": true
   },
   "outputs": [],
   "source": []
  },
  {
   "cell_type": "markdown",
   "metadata": {},
   "source": [
    "# Applying model\n",
    "\n",
    "Here we construct a graph for our final model.\n",
    "\n",
    "It will work as follows:\n",
    "- take an image as an input and embed it\n",
    "- condition lstm on that embedding\n",
    "- predict the next token given a START input token\n",
    "- use predicted token as an input at next time step\n",
    "- iterate until you predict an END token"
   ]
  },
  {
   "cell_type": "code",
   "execution_count": null,
   "metadata": {
    "ExecuteTime": {
     "end_time": "2017-09-17T14:44:22.546086Z",
     "start_time": "2017-09-17T14:44:16.029331Z"
    }
   },
   "outputs": [],
   "source": [
    "class final_model:\n",
    "    # CNN encoder\n",
    "    encoder, preprocess_for_model = get_cnn_encoder()\n",
    "    saver.restore(s, os.path.abspath(\"weights_7\"))  # keras applications corrupt our graph, so we restore trained weights\n",
    "    \n",
    "    # containers for current lstm state\n",
    "    lstm_c = tf.Variable(tf.zeros([1, LSTM_UNITS]), name=\"cell\")\n",
    "    lstm_h = tf.Variable(tf.zeros([1, LSTM_UNITS]), name=\"hidden\")\n",
    "\n",
    "    # input images\n",
    "    input_images = tf.placeholder('float32', [1, IMG_SIZE, IMG_SIZE, 3], name='images')\n",
    "\n",
    "    # get image embeddings\n",
    "    img_embeds = encoder(input_images)\n",
    "\n",
    "    # initialize lstm state conditioned on image\n",
    "    init_c = init_h = decoder.img_embed_bottleneck_to_h0(decoder.img_embed_to_bottleneck(img_embeds))\n",
    "    init_lstm = tf.assign(lstm_c, init_c), tf.assign(lstm_h, init_h)\n",
    "    \n",
    "    # current word index\n",
    "    current_word = tf.placeholder('int32', [1], name='current_input')\n",
    "\n",
    "    # embedding for current word\n",
    "    word_embed = decoder.word_embed(current_word)\n",
    "\n",
    "    # apply lstm cell, get new lstm states\n",
    "    new_c, new_h = decoder.lstm(word_embed, tf.nn.rnn_cell.LSTMStateTuple(lstm_c, lstm_h))[1]\n",
    "\n",
    "    # compute logits for next token\n",
    "    new_logits = decoder.token_logits(decoder.token_logits_bottleneck(new_h))\n",
    "    # compute probabilities for next token\n",
    "    new_probs = tf.nn.softmax(new_logits)\n",
    "\n",
    "    # `one_step` outputs probabilities of next token and updates lstm hidden state\n",
    "    one_step = new_probs, tf.assign(lstm_c, new_c), tf.assign(lstm_h, new_h)"
   ]
  },
  {
   "cell_type": "code",
   "execution_count": null,
   "metadata": {
    "collapsed": true
   },
   "outputs": [],
   "source": [
    "# this is an actual prediction loop\n",
    "def generate_caption(image, t=1, sample=False, max_len=20):\n",
    "    \"\"\"\n",
    "    Generate caption for given image.\n",
    "    if `sample` is True, we will sample next token from predicted probability distribution.\n",
    "    `t` is a temperature during that sampling,\n",
    "        higher `t` causes more uniform-like distribution = more chaos.\n",
    "    \"\"\"\n",
    "    # condition lstm on the image\n",
    "    s.run(final_model.init_lstm, \n",
    "          {final_model.input_images: [image]})\n",
    "    \n",
    "    # current caption\n",
    "    # start with only START token\n",
    "    caption = [vocab[START]]\n",
    "    \n",
    "    for _ in range(max_len):\n",
    "        next_word_probs = s.run(final_model.one_step, \n",
    "                                {final_model.current_word: [caption[-1]]})[0]\n",
    "        next_word_probs = next_word_probs.ravel()\n",
    "        \n",
    "        # apply temperature\n",
    "        next_word_probs = next_word_probs**(1/t) / np.sum(next_word_probs**(1/t))\n",
    "\n",
    "        if sample:\n",
    "            next_word = np.random.choice(range(len(vocab)), p=next_word_probs)\n",
    "        else:\n",
    "            next_word = np.argmax(next_word_probs)\n",
    "\n",
    "        caption.append(next_word)\n",
    "        if next_word == vocab[END]:\n",
    "            break\n",
    "       \n",
    "    return list(map(vocab_inverse.get, caption))"
   ]
  },
  {
   "cell_type": "code",
   "execution_count": null,
   "metadata": {
    "ExecuteTime": {
     "end_time": "2017-09-17T17:44:15.525786Z",
     "start_time": "2017-09-17T17:44:15.238979Z"
    }
   },
   "outputs": [],
   "source": [
    "# look at validation prediction example\n",
    "def apply_model_to_image_raw_bytes(raw):\n",
    "    img = utils.decode_image_from_buf(raw)\n",
    "    fig = plt.figure(figsize=(7, 7))\n",
    "    plt.grid('off')\n",
    "    plt.axis('off')\n",
    "    plt.imshow(img)\n",
    "    img = utils.crop_and_preprocess(img, (IMG_SIZE, IMG_SIZE), final_model.preprocess_for_model)\n",
    "    print(' '.join(generate_caption(img)[1:-1]))\n",
    "    plt.show()\n",
    "\n",
    "def show_valid_example(val_img_fns, example_idx=0):\n",
    "    zf = zipfile.ZipFile(\"val2014_sample.zip\")\n",
    "    all_files = set(val_img_fns)\n",
    "    found_files = list(filter(lambda x: x.filename.rsplit(\"/\")[-1] in all_files, zf.filelist))\n",
    "    example = found_files[example_idx]\n",
    "    apply_model_to_image_raw_bytes(zf.read(example))\n",
    "    \n",
    "show_valid_example(val_img_fns, example_idx=1)"
   ]
  },
  {
   "cell_type": "code",
   "execution_count": null,
   "metadata": {
    "ExecuteTime": {
     "end_time": "2017-09-17T15:07:47.191185Z",
     "start_time": "2017-09-17T15:06:44.121069Z"
    },
    "collapsed": true,
    "scrolled": true
   },
   "outputs": [],
   "source": [
    "# sample more images from validation\n",
    "for idx in np.random.choice(range(len(zipfile.ZipFile(\"val2014_sample.zip\").filelist) - 1), 30):\n",
    "    show_valid_example(val_img_fns, example_idx=idx)\n",
    "    time.sleep(1)"
   ]
  },
  {
   "cell_type": "markdown",
   "metadata": {},
   "source": [
    "You can download any image from the Internet and appply your model to it!"
   ]
  },
  {
   "cell_type": "code",
   "execution_count": null,
   "metadata": {
    "ExecuteTime": {
     "end_time": "2017-09-17T17:42:56.055265Z",
     "start_time": "2017-09-17T17:42:54.242164Z"
    },
    "collapsed": true
   },
   "outputs": [],
   "source": [
    "download_utils.download_file(\n",
    "    \"http://www.bijouxandbits.com/wp-content/uploads/2016/06/portal-cake-10.jpg\",\n",
    "    \"portal-cake-10.jpg\"\n",
    ")"
   ]
  },
  {
   "cell_type": "markdown",
   "metadata": {
    "ExecuteTime": {
     "end_time": "2017-09-24T12:34:10.689158Z",
     "start_time": "2017-09-24T12:34:10.675938Z"
    }
   },
   "source": [
    "Now it's time to find 10 examples where your model works good and 10 examples where it fails! \n",
    "\n",
    "You can use images from validation set as follows:\n",
    "```python\n",
    "show_valid_example(val_img_fns, example_idx=...)\n",
    "```\n",
    "\n",
    "You can use images from the Internet as follows:\n",
    "```python\n",
    "! wget ...\n",
    "apply_model_to_image_raw_bytes(open(\"...\", \"rb\").read())\n",
    "```\n",
    "\n",
    "If you use these functions, the output will be embedded into your notebook and will be visible during peer review!\n",
    "\n",
    "When you're done, download your noteboook using \"File\" -> \"Download as\" -> \"Notebook\" and prepare that file for peer review!"
   ]
  },
  {
   "cell_type": "code",
   "execution_count": null,
   "metadata": {
    "scrolled": true
   },
   "outputs": [],
   "source": [
    "apply_model_to_image_raw_bytes(open(\"images (1).jpg\", \"rb\").read())"
   ]
  },
  {
   "cell_type": "code",
   "execution_count": null,
   "metadata": {
    "scrolled": false
   },
   "outputs": [],
   "source": [
    "apply_model_to_image_raw_bytes(open(\"image_2021-12-12_193315.png\", \"rb\").read())"
   ]
  },
  {
   "cell_type": "code",
   "execution_count": null,
   "metadata": {},
   "outputs": [],
   "source": [
    "apply_model_to_image_raw_bytes(open(\"image_2021-12-12_193950.png\", \"rb\").read())"
   ]
  },
  {
   "cell_type": "code",
   "execution_count": null,
   "metadata": {},
   "outputs": [],
   "source": [
    "apply_model_to_image_raw_bytes(open(\"image_2021-12-12_194308.png\", \"rb\").read())"
   ]
  },
  {
   "cell_type": "code",
   "execution_count": null,
   "metadata": {},
   "outputs": [],
   "source": [
    "apply_model_to_image_raw_bytes(open(\"image_2021-12-12_195344.png\", \"rb\").read())"
   ]
  },
  {
   "cell_type": "code",
   "execution_count": null,
   "metadata": {},
   "outputs": [],
   "source": [
    "apply_model_to_image_raw_bytes(open(\"image_2021-12-12_200423.png\", \"rb\").read())\n"
   ]
  },
  {
   "cell_type": "code",
   "execution_count": null,
   "metadata": {},
   "outputs": [],
   "source": [
    "apply_model_to_image_raw_bytes(open(\"image_2021-12-12_200603.png\", \"rb\").read())"
   ]
  },
  {
   "cell_type": "code",
   "execution_count": null,
   "metadata": {},
   "outputs": [],
   "source": [
    "good_examples = [5, 7, 12, 14, 17, 20, 26, 37, 70, 72]\n",
    "for idx in good_examples:\n",
    "    show_valid_example(val_img_fns, example_idx=idx)\n",
    "    time.sleep(1)"
   ]
  },
  {
   "cell_type": "markdown",
   "metadata": {
    "ExecuteTime": {
     "end_time": "2017-09-24T12:34:25.055581Z",
     "start_time": "2017-09-24T12:34:25.052373Z"
    }
   },
   "source": [
    "That's it! \n",
    "\n",
    "Congratulations, you've trained your image captioning model and now can produce captions for any picture from the  Internet!"
   ]
  }
 ],
 "metadata": {
  "kernelspec": {
   "display_name": "Python 3",
   "language": "python",
   "name": "python3"
  },
  "language_info": {
   "codemirror_mode": {
    "name": "ipython",
    "version": 3
   },
   "file_extension": ".py",
   "mimetype": "text/x-python",
   "name": "python",
   "nbconvert_exporter": "python",
   "pygments_lexer": "ipython3",
   "version": "3.6.2"
  },
  "toc": {
   "colors": {
    "hover_highlight": "#DAA520",
    "navigate_num": "#000000",
    "navigate_text": "#333333",
    "running_highlight": "#FF0000",
    "selected_highlight": "#FFD700",
    "sidebar_border": "#EEEEEE",
    "wrapper_background": "#FFFFFF"
   },
   "moveMenuLeft": true,
   "nav_menu": {
    "height": "157px",
    "width": "252px"
   },
   "navigate_menu": true,
   "number_sections": true,
   "sideBar": true,
   "threshold": 4,
   "toc_cell": false,
   "toc_section_display": "block",
   "toc_window_display": false,
   "widenNotebook": false
  }
 },
 "nbformat": 4,
 "nbformat_minor": 2
}
